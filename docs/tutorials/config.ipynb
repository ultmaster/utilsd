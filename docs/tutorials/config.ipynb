{
 "cells": [
  {
   "cell_type": "markdown",
   "metadata": {},
   "source": [
    "# Getting started with configs\n",
    "\n",
    "One of the key features provided by utilsd is to connect pricipled configs of `configclass` (`dataclass` essentially), with declarative languages (e.g., JSON/YAML), and concrete objects that are to configure. This tutorial is a step-by-step walkthrough of the most important features `utilsd.config` is capable of. In the end of this tutorial, we will show several reasons why you should use `utilsd.config` over other similar tools."
   ]
  },
  {
   "cell_type": "markdown",
   "metadata": {},
   "source": [
    "## `configclass`\n",
    "\n",
    "Imagine a simple scenario, where you want to configure a deep learning experiment with some hyper-parameters. Let's say learning rate, batch size, and number of epochs. In order to manage your experiment, you would like:\n",
    "\n",
    "1. to easily write new configurations (as little code change as possible);\n",
    "2. configurations are human-friendly and manageable;\n",
    "3. when writing code, the config should look like a python object (with type-checking and code-completion).\n",
    "\n",
    "If the things above bothers you, `configclass` is exactly what you need. Next, we will go through the core features for `configclass`, by implementing the scenario mentioned previously."
   ]
  },
  {
   "cell_type": "code",
   "execution_count": 2,
   "metadata": {},
   "outputs": [],
   "source": [
    "from utilsd.config import configclass"
   ]
  },
  {
   "cell_type": "code",
   "execution_count": 3,
   "metadata": {},
   "outputs": [],
   "source": [
    "@configclass\n",
    "class ExperimentConf:\n",
    "    learning_rate: float\n",
    "    batch_size: int       # annotate with type\n",
    "    num_epochs: int = 10  # default value is 10"
   ]
  },
  {
   "cell_type": "markdown",
   "metadata": {},
   "source": [
    "In the example above, we create a config class with 3 fields. The field `num_epochs` has a default value 10.\n",
    "\n",
    "The syntax are very similar to (actually almost same as) those in dataclass. Refer to python documentation of [dataclass](https://docs.python.org/3/library/dataclasses.html) for background knowledge.\n",
    "\n",
    "Afterwards, a experiment config can be created with:"
   ]
  },
  {
   "cell_type": "code",
   "execution_count": 4,
   "metadata": {},
   "outputs": [
    {
     "data": {
      "text/plain": [
       "ExperimentConf(learning_rate=0.001, batch_size=10, num_epochs=10)"
      ]
     },
     "execution_count": 4,
     "metadata": {},
     "output_type": "execute_result"
    }
   ],
   "source": [
    "ExperimentConf(1e-3, 10)"
   ]
  },
  {
   "cell_type": "markdown",
   "metadata": {},
   "source": [
    "The power of config class is that, it can be created with a dict-like config data. That is to say, users don't have to prepare the experiment config in the python way above. Instead, they can prepare a dict-like config beforehand:"
   ]
  },
  {
   "cell_type": "code",
   "execution_count": 5,
   "metadata": {},
   "outputs": [
    {
     "data": {
      "text/plain": [
       "ExperimentConf(learning_rate=0.001, batch_size=10, num_epochs=30)"
      ]
     },
     "execution_count": 5,
     "metadata": {},
     "output_type": "execute_result"
    }
   ],
   "source": [
    "config_data = {'learning_rate': 1e-3, 'batch_size': 10, 'num_epochs': 30}\n",
    "ExperimentConf.fromdict(config_data)"
   ]
  },
  {
   "cell_type": "code",
   "execution_count": null,
   "metadata": {},
   "outputs": [],
   "source": []
  }
 ],
 "metadata": {
  "interpreter": {
   "hash": "e719d61bf2f8783310605d7d33b4a79d3d3808a4b1e839bcbd4d25925ed7dae7"
  },
  "kernelspec": {
   "display_name": "Python 3.8.12 64-bit ('utilsd': conda)",
   "language": "python",
   "name": "python3"
  },
  "language_info": {
   "codemirror_mode": {
    "name": "ipython",
    "version": 3
   },
   "file_extension": ".py",
   "mimetype": "text/x-python",
   "name": "python",
   "nbconvert_exporter": "python",
   "pygments_lexer": "ipython3",
   "version": "3.8.12"
  },
  "orig_nbformat": 4
 },
 "nbformat": 4,
 "nbformat_minor": 2
}
